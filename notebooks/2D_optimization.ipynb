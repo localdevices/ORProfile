{
 "cells": [
  {
   "cell_type": "markdown",
   "id": "f57b1f08-8364-4e6d-9b37-a8f914fc0e2e",
   "metadata": {},
   "source": [
    "### Optimize parameters of 2D Lacey model using several optimizers\n",
    "- [ ] define a optimization function (receiving normalized parameters)\n",
    "- [ ] define a parameter normalization function\n",
    "- [ ] define a optimize function that receives parameter ranges\n",
    "- [ ] test several optimizers"
   ]
  },
  {
   "cell_type": "code",
   "execution_count": null,
   "id": "309005a0-c38c-41b3-a990-e8fb70f19901",
   "metadata": {},
   "outputs": [],
   "source": [
    "import orprofile\n",
    "from orprofile.api.depth import _prepare_ds, _prepare_B_grid, _compute_depth\n",
    "import geopandas as gpd\n",
    "import os\n",
    "import xugrid as xu\n",
    "import xarray as xr\n",
    "import numpy as np\n",
    "import matplotlib.pyplot as plt\n",
    "from scipy import optimize"
   ]
  },
  {
   "cell_type": "markdown",
   "id": "489c8341-145e-4e64-a59e-3c66d0930c60",
   "metadata": {},
   "source": [
    "### Load data into a Mesh object"
   ]
  },
  {
   "cell_type": "code",
   "execution_count": null,
   "id": "6cfaf7a3-62cc-4cb5-982f-c2ad5b1952d1",
   "metadata": {},
   "outputs": [],
   "source": [
    "fn_splines = \"../examples/data/splines.geojson\"\n",
    "fn_points = \"../examples/data/bamboi_survey.geojson\"\n",
    "splines = gpd.read_file(fn_splines)\n",
    "\n",
    "mesh = orprofile.api.mesh.Mesh(splines, n=20, m=20)\n",
    "mesh.plot()\n",
    "gdf = gpd.read_file(fn_points)\n",
    "\n",
    "# prepare a meshed set\n",
    "ds = orprofile.api.regrid_samples(mesh, gdf)\n",
    "ds[\"samples\"].ugrid.plot()\n",
    "samples = ds[\"samples\"].values"
   ]
  },
  {
   "cell_type": "code",
   "execution_count": null,
   "id": "012f56d8-2c36-4d5f-a950-742a95bd0898",
   "metadata": {},
   "outputs": [],
   "source": [
    "da = ds[\"samples\"].ugrid.laplace_interpolate()\n",
    "da.ugrid.plot()"
   ]
  },
  {
   "cell_type": "code",
   "execution_count": null,
   "id": "61a831e1-1389-4c47-87b6-31d98fa1bb89",
   "metadata": {},
   "outputs": [],
   "source": [
    "alpha = 30  # amplitude of meander around centerline [m]\n",
    "L = 300  # m\n",
    "A = 500  # conveyance m2\n",
    "c = 0.5  # width to grid width ratio [-]\n",
    "kappa = 0.5*np.pi  # phase [rad]\n",
    "\n",
    "alpha = 63.49418969047191\n",
    "L = 688.457688989413\n",
    "A = 1222.7566649899356\n",
    "c = 1.5903139437728133\n",
    "kappa = -1.1495183526701667\n",
    "ds_depth = orprofile.api.depth_2d(mesh, alpha, L, kappa, c, A)\n",
    "\n",
    "print(ds_depth[\"depth\"].values.mean())\n",
    "residuals = ds_depth[\"depth\"].values - samples\n",
    "residuals = residuals[np.isfinite(residuals)]\n",
    "\n",
    "residuals.std()\n"
   ]
  },
  {
   "cell_type": "code",
   "execution_count": null,
   "id": "195a9e7f-340d-4a2c-94f7-d0714656f828",
   "metadata": {},
   "outputs": [],
   "source": [
    "import copy\n",
    "def error_depth(x, mesh, samples, ds, B_grid, x_mult, x_off):\n",
    "    \"\"\"\n",
    "    \"\"\"\n",
    "    alpha, L, kappa, c, A = np.array(x) * x_mult + x_off\n",
    "    # print(alpha, L, kappa, c, A)\n",
    "    depth = _compute_depth(copy.deepcopy(ds), B_grid, alpha, L, kappa, c, A)[\"depth\"].values\n",
    "    # depth = orprofile.api.depth_2d(mesh, alpha, L, kappa, c, A)[\"depth\"].values\n",
    "    # print(depth.mean())\n",
    "    residuals = depth - samples\n",
    "    residuals = residuals[np.isfinite(residuals)]\n",
    "    mse = np.mean(residuals**2)\n",
    "    print(np.sqrt(mse))\n",
    "    return mse\n",
    "\n",
    "alpha = (10, 100)\n",
    "L = (15, 200)\n",
    "A = (20, 2000)\n",
    "c = (0.5, 2)\n",
    "kappa = (-0.5*np.pi, 0.5*np.pi)\n",
    "\n",
    "x_range = [alpha, L, kappa, c, A]\n",
    "x_off = np.array([_x[0] for _x in x_range])\n",
    "x_mult = np.array([_x[1] - _x[0] for _x in x_range])\n",
    "x_lim = [(0, 1) for _ in x_range]\n",
    "\n",
    "ds = _prepare_ds(mesh)\n",
    "B_grid = _prepare_B_grid(ds)\n",
    "\n",
    "\n",
    "opt = optimize.differential_evolution(\n",
    "    error_depth,\n",
    "    bounds=x_lim,\n",
    "    args=(mesh, samples - 116.5, ds, B_grid, x_mult, x_off),\n",
    "    atol=1,  # 1 meter\n",
    "    maxiter=100,\n",
    ")\n"
   ]
  },
  {
   "cell_type": "code",
   "execution_count": null,
   "id": "919866fb-89b2-4179-aec3-a6b872ef3cc9",
   "metadata": {},
   "outputs": [],
   "source": [
    "opt.x * x_mult + x_off"
   ]
  },
  {
   "cell_type": "code",
   "execution_count": null,
   "id": "f8d694b0-805c-449e-833c-daaffe8aca95",
   "metadata": {},
   "outputs": [],
   "source": [
    "opt.x\n",
    "alpha, L, kappa, c, A = np.array(opt.x) * x_mult + x_off\n",
    "ds_depth = orprofile.api.depth_2d(mesh, alpha, L, kappa, c, A)\n",
    "\n",
    "print(ds_depth[\"depth\"].values.mean())\n",
    "residuals = samples - ds_depth[\"depth\"]\n",
    "residuals -= residuals.mean()\n",
    "residuals2 = residuals.ugrid.laplace_interpolate()\n",
    "f, axs = plt.subplots(ncols=3, figsize=(13, 5))\n",
    "\n",
    "ds_depth[\"depth\"].ugrid.plot(ax=axs[0])\n",
    "residuals.ugrid.plot(ax=axs[1])\n",
    "residuals2.ugrid.plot(ax=axs[2])\n",
    "\n"
   ]
  },
  {
   "cell_type": "code",
   "execution_count": null,
   "id": "c030080c-e9a7-4399-b85a-ac72b6e30773",
   "metadata": {},
   "outputs": [],
   "source": [
    "da_depth = ds_depth[\"depth\"] + residuals2\n",
    "da_depth.ugrid.plot(vmax=0)"
   ]
  },
  {
   "cell_type": "code",
   "execution_count": null,
   "id": "dba53d4f-5859-479e-8a0a-6ba31c93a2cd",
   "metadata": {},
   "outputs": [],
   "source": [
    "da = ds[\"samples\"]\n",
    "da -= da.mean()\n",
    "da2 = da.ugrid.laplace_interpolate()\n",
    "da2.ugrid.plot()"
   ]
  },
  {
   "cell_type": "markdown",
   "id": "e58592c4-9c7e-4d52-bece-2ffd6f960183",
   "metadata": {},
   "source": [
    "### Reduce the average depth per grid cell to a single value and map these onto the grid"
   ]
  },
  {
   "cell_type": "code",
   "execution_count": null,
   "id": "83e7b848-1b94-4eb3-88e0-74ccd9fd0317",
   "metadata": {},
   "outputs": [],
   "source": [
    "(da2 - da_depth).ugrid.plot()"
   ]
  },
  {
   "cell_type": "code",
   "execution_count": null,
   "id": "8035ad8f-e622-4745-b864-689af737cab6",
   "metadata": {},
   "outputs": [],
   "source": [
    "points = da_index.ugrid.sel_points(x=mesh.points.geometry.x, y=mesh.points.geometry.y)\n",
    "ax = plt.axes()\n",
    "# da_index.ugrid.plot(ax=ax)\n",
    "ax.scatter(points.mesh2d_x, points.mesh2d_y, c=points)"
   ]
  },
  {
   "cell_type": "code",
   "execution_count": null,
   "id": "2453e98e-3081-4b38-a8bb-fd0494b6c8f2",
   "metadata": {},
   "outputs": [],
   "source": [
    "# add points to gdf (nans where no data)\n",
    "gdf = mesh.points\n",
    "face_index = np.ones(len(gdf), dtype=np.int64)*-1\n",
    "face_index[points.mesh2d_index] = points.values\n",
    "gdf[\"face_index\"] = face_index\n",
    "# gdf.plot(column=\"face_index\")\n",
    "gdf"
   ]
  },
  {
   "cell_type": "code",
   "execution_count": null,
   "id": "5be077f0-86db-4539-bdb4-e939d8a02b7c",
   "metadata": {},
   "outputs": [],
   "source": [
    "# reduce per index\n",
    "depth_mean = gdf[gdf[\"face_index\"] >= 0][[\"Depth\", \"face_index\"]].groupby(\"face_index\").mean()\n",
    "# add data to new xu.UgridDataArray"
   ]
  },
  {
   "cell_type": "markdown",
   "id": "9cea8bdb-b708-4b57-8b8d-7abd77b685c2",
   "metadata": {},
   "source": [
    "### organizing rows and columns into a XUGridDataSet"
   ]
  },
  {
   "cell_type": "code",
   "execution_count": null,
   "id": "0b5eb393-b74d-486f-ace6-341f889977dd",
   "metadata": {},
   "outputs": [],
   "source": [
    "depth_mean.index\n",
    "depth_grid = np.zeros(da_index.shape)*np.nan\n",
    "depth_grid[depth_mean.index] = depth_mean[\"Depth\"]\n",
    "depth_grid"
   ]
  },
  {
   "cell_type": "code",
   "execution_count": null,
   "id": "618e0fde-796c-44bd-816d-f2456c3d0987",
   "metadata": {},
   "outputs": [],
   "source": [
    "ds = mesh._get_empty_ds()\n",
    "ds[\"samples\"] = (\"mesh2d_nFaces\", depth_grid)\n",
    "ds\n",
    "# ds[\"samples\"].ugrid.plot()\n",
    "\n",
    "f = plt.figure(figsize=(16, 9))\n",
    "ax = mesh.plot()\n",
    "ds = ds.ugrid.to_crs(ax.projection)\n",
    "ds[\"samples\"].ugrid.plot(ax=ax, alpha=0.8)\n",
    "plt.show()"
   ]
  },
  {
   "cell_type": "code",
   "execution_count": null,
   "id": "b3228f50-4be3-45d5-9a54-4cdbb9df9738",
   "metadata": {},
   "outputs": [],
   "source": [
    "ax = plt.axes()\n",
    "ds[\"samples\"][ds[\"rows\"]==8].plot(ax=ax, marker=\".\")\n",
    "ds[\"samples\"][ds[\"rows\"]==9].plot(ax=ax, marker=\".\")\n",
    "ds[\"samples\"][ds[\"rows\"]==12].plot(ax=ax, marker=\".\")\n",
    "ds[\"samples\"][ds[\"rows\"]==14].plot(ax=ax, marker=\".\")\n",
    "ds[\"samples\"][ds[\"rows\"]==15].plot(ax=ax, marker=\".\")\n",
    "ds[\"samples\"][ds[\"rows\"]==20].plot(ax=ax, marker=\".\", label=19)\n",
    "ax.legend()\n",
    "ax.axis(\"equal\")"
   ]
  },
  {
   "cell_type": "code",
   "execution_count": null,
   "id": "60f88e08-d9d1-44df-a1bc-ca0ab4755350",
   "metadata": {},
   "outputs": [],
   "source": [
    "da.ugrid.sel_points(x=606700, y=901475)"
   ]
  },
  {
   "cell_type": "code",
   "execution_count": null,
   "id": "a4c9a922-7ba6-488f-bf14-bd69bf00191e",
   "metadata": {},
   "outputs": [],
   "source": [
    "mesh.mesh2d.to_dataset().mesh2d_nNodes"
   ]
  }
 ],
 "metadata": {
  "kernelspec": {
   "display_name": "Python 3 (ipykernel)",
   "language": "python",
   "name": "python3"
  },
  "language_info": {
   "codemirror_mode": {
    "name": "ipython",
    "version": 3
   },
   "file_extension": ".py",
   "mimetype": "text/x-python",
   "name": "python",
   "nbconvert_exporter": "python",
   "pygments_lexer": "ipython3",
   "version": "3.10.13"
  }
 },
 "nbformat": 4,
 "nbformat_minor": 5
}
