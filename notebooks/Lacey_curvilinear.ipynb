{
 "cells": [
  {
   "cell_type": "markdown",
   "id": "6d9b1f85-7552-4beb-bf81-0240ba4bf031",
   "metadata": {},
   "source": [
    "### Add perpendicular and parallel coordinates to mesh datasets\n",
    "we need to solve the equations over longitudinal and ordinal distances. Therefore we should ad perpendicular and parallel coordinates to each row/column combination in a mesh"
   ]
  },
  {
   "cell_type": "code",
   "execution_count": null,
   "id": "cdb203ee-5f14-492e-af5e-f320ecd146b8",
   "metadata": {},
   "outputs": [],
   "source": [
    "from orprofile import api\n",
    "from orprofile import profile\n",
    "import geopandas as gpd\n",
    "import numpy as np\n",
    "import xugrid as xu\n",
    "import xarray as xr"
   ]
  },
  {
   "cell_type": "code",
   "execution_count": null,
   "id": "c7ebf2d7-54c6-4b36-a757-9d45fb2c79f9",
   "metadata": {},
   "outputs": [],
   "source": [
    "def compute_scalar_coordinates(ds_vector):\n",
    "    \"\"\"\n",
    "    Compute parallel or perpendicular coordinates\n",
    "    \"\"\"\n",
    "    dx = np.diff(ds_vector.grid.face_x)\n",
    "    dy = np.diff(ds_vector.grid.face_y)\n",
    "    ds = (dx**2+dy**2)**0.5\n",
    "    # compute the distances\n",
    "    s = np.concatenate(\n",
    "        [\n",
    "            np.array([0]),\n",
    "            np.cumsum(ds)\n",
    "        ]\n",
    "    )\n",
    "    return s\n",
    "\n",
    "\n"
   ]
  },
  {
   "cell_type": "markdown",
   "id": "de0eaf9d-05ea-420f-ad77-fe4462fc9402",
   "metadata": {},
   "source": [
    "### Make a mesh with the existing functionalities"
   ]
  },
  {
   "cell_type": "code",
   "execution_count": null,
   "id": "ffe78055-5687-446e-b1e8-578dbb2041fa",
   "metadata": {},
   "outputs": [],
   "source": [
    "splines = gpd.read_file(\"../examples/data/splines.geojson\")\n",
    "fn_points = \"../examples/data/bamboi_survey.geojson\"\n",
    "\n",
    "mesh = api.mesh.Mesh(splines, n=50, m=100, points=fn_points)\n",
    "\n",
    "mesh.plot()"
   ]
  },
  {
   "cell_type": "markdown",
   "id": "b077fa8a-2465-42f9-a279-a36f65b023aa",
   "metadata": {},
   "source": [
    "### Define numpy functions (for profiles) and xugrid functions for curvilinear grid applications"
   ]
  },
  {
   "cell_type": "code",
   "execution_count": null,
   "id": "b3ae78f4-476e-4a2a-adf4-df77b373ce1d",
   "metadata": {},
   "outputs": [],
   "source": [
    "# Vector numpy functions\n",
    "def deepest_point_y_dist(x, alpha, L, kappa, y_off_mean=0.):\n",
    "    return y_off_mean + alpha*np.sin(2*np.pi*(x/L)-kappa)\n",
    "\n",
    "def depth_from_width(s, phi=0.25*np.pi, h_m=10):\n",
    "    \"\"\"\n",
    "    Simplest implementation of Eq. 12 from Savenije 2003, where the first coordinate (zero meters) is the lowest point. We stop at zero as that\n",
    "    is where we reach the natural levee crest.\n",
    "    \"\"\"\n",
    "    # zero is the lowest point in the stream starting in the middle of the stream\n",
    "    angle = np.minimum(np.tan(phi)/h_m * s, 0.5*np.pi)\n",
    "    depth = -np.cos(angle)*h_m\n",
    "    return depth\n",
    "\n",
    "def depth_profile_left_right_parameters(s, gamma, h_m, A, c):\n",
    "    \"\"\"\n",
    "    we assume here that the most extreme coordinates are at more or less the same elevation and \n",
    "    within the area spanning between both natural levees (they do not have to be at the natural levee per se)\n",
    "    \"\"\"\n",
    "    B = s[-1] - s[0]\n",
    "    frac_right = 1/(1+gamma)  # TODO include the c-parameter to correct fir B_tilde and B difference.\n",
    "    \n",
    "    # make coordinates with zero at the deepest point negative (positive) left (right) of deepest point\n",
    "    s_ordinal = s - (1-frac_right) * B\n",
    "    # estimate the average depth (eq. 15 in Savenije 2003)\n",
    "    h = 2*h_m / np.pi\n",
    "    # solve B_r and B_l\n",
    "    B_r = A/(h*(1+gamma))\n",
    "    B_l = gamma*B_r\n",
    "    # compute tan phi left and right\n",
    "    tan_phi_left = h_m*np.pi/(2*B_l)\n",
    "    tan_phi_right = h_m*np.pi/(2*B_r)\n",
    "    tan_phi_right2 = gamma * tan_phi_left\n",
    "    phi_left = np.arctan(tan_phi_left)\n",
    "    phi_right = np.arctan(tan_phi_right)\n",
    "    \n",
    "    depth = np.zeros(s.shape)\n",
    "    \n",
    "    depth[s_ordinal < 0] = depth_from_width(-s_ordinal[s_ordinal < 0], phi=phi_left[s_ordinal < 0], h_m=h_m[s_ordinal < 0])\n",
    "    depth[s_ordinal >= 0] = depth_from_width(s_ordinal[s_ordinal >= 0], phi=phi_right[s_ordinal >= 0], h_m=h_m[s_ordinal >= 0])\n",
    "    # depth = depth_from_width(s_ordinal, phi=phi_left, h_m=h_m)\n",
    "    # return s_ordinal\n",
    "    return np.minimum(depth, 0)\n",
    "\n",
    "\n",
    "\n",
    "# DataArray functions\n",
    "def depth_profile_row(row, A, c):\n",
    "    s = row.yi\n",
    "    gamma = row[\"gamma\"]\n",
    "    h_m = row[\"h_m\"]\n",
    "    depth = depth_profile_left_right_parameters(s, gamma, h_m, A, c)*(h_m*0+1)\n",
    "    return depth\n",
    "\n",
    "\n",
    "def depth_2d(mesh, alpha, L, kappa, c, A):\n",
    "    \"\"\"\n",
    "    \n",
    "    \"\"\"\n",
    "    ds = mesh._get_empty_ds()\n",
    "    xi = mesh.map_rowcol_wise(\n",
    "        api.get_dist,\n",
    "        name=\"xi\",\n",
    "        rowcol=\"rows\"\n",
    "    )\n",
    "    \n",
    "    yi = mesh.map_rowcol_wise(\n",
    "        api.get_dist,\n",
    "        name=\"yi\",\n",
    "        rowcol=\"cols\"\n",
    "    )\n",
    "    ds[\"yi\"] = yi\n",
    "    ds[\"xi\"] = yi\n",
    "    \n",
    "\n",
    "    # get the asymmetry parameter\n",
    "    B_vector = ds[\"yi\"].groupby(\"cols\").max() - ds[\"yi\"].groupby(\"cols\").min()\n",
    "    B_grid = np.zeros(len(ds[\"xi\"]))\n",
    "    for n, b in enumerate(B_vector.values):\n",
    "        B_grid[ds[\"cols\"] == n] = b\n",
    "    \n",
    "\n",
    "    # gamma = get_gamma(xi, yi, c, alpha, L, kappa)\n",
    "    # get the h_m values\n",
    "    h_m = A*np.pi/(2*c*B_grid)\n",
    "    gamma = get_gamma(xi, yi, c, alpha, L, kappa, A, h_m)\n",
    "    ds[\"h_m\"] = (\"mesh2d_nFaces\", h_m)\n",
    "    ds[\"gamma\"] = (\"mesh2d_nFaces\", gamma)\n",
    "    ds_g = xr.Dataset(ds).groupby(\"cols\")\n",
    "    depth = ds_g.map(\n",
    "        depth_profile_row,\n",
    "        # name=\"depth\",\n",
    "        # ugrid=mesh.mesh2d,\n",
    "        A=A,\n",
    "        c=c,\n",
    "    )\n",
    "    ds[\"depth\"] = depth\n",
    "    return ds\n",
    "\n",
    "\n",
    "def get_gamma(xi, yi, c, alpha, L, kappa, A, h_m):\n",
    "    # compute the location of the middle\n",
    "    y_mean = yi.groupby(\"cols\").mean()\n",
    "    y_disti = deepest_point_y_dist(xi, alpha, L, kappa, y_off_mean=0.)\n",
    "\n",
    "    h = 2*h_m / np.pi\n",
    "    Br_vector = y_mean - yi.groupby(\"cols\").min() + y_disti.groupby(\"cols\").max()\n",
    "    Br_grid = np.zeros(len(xi))\n",
    "    for n, br in enumerate(Br_vector.values):\n",
    "        Br_grid[xi[\"cols\"] == n] = br\n",
    "\n",
    "    # # compute the grid width (B tilde)\n",
    "    # B_grid = yi[-1] - yi[0]\n",
    "    # Br_grid = B_grid - (y_mean - yi[0] + y_disti.max(axis=0))\n",
    "\n",
    "    gamma = A/(h*Br_grid*c) - 1\n",
    "    # gamma = y_disti/(c*B_grid) + 1\n",
    "    # then we compute how far in the transect we are per grid cell\n",
    "    return gamma\n"
   ]
  },
  {
   "cell_type": "markdown",
   "id": "2e5757e4-ac69-4605-9bc5-21f46ccdfe85",
   "metadata": {},
   "source": [
    "### Application with some randomly selected parameters"
   ]
  },
  {
   "cell_type": "code",
   "execution_count": null,
   "id": "36cd0b64-509d-4470-8c5e-f0fc3fcefc7b",
   "metadata": {},
   "outputs": [],
   "source": [
    "import matplotlib.pyplot as plt\n",
    "\n",
    "alpha = 30  # amplitude of meander around centerline [m]\n",
    "L = 300  # m\n",
    "A = 500  # conveyance m2\n",
    "c = 0.5  # width to grid width ratio [-]\n",
    "kappa = 0.5*np.pi  # phase [rad]\n",
    "ds_depth = depth_2d(mesh, alpha, L, kappa, c, A)\n",
    "\n",
    "f = plt.figure(figsize=(16, 9))\n",
    "ax = mesh.plot() #plot_points=False)\n",
    "ds_depth = ds_depth.ugrid.to_crs(ax.projection)\n",
    "ds_depth[\"depth\"].ugrid.plot(ax=ax, cmap=\"gist_earth\")"
   ]
  },
  {
   "cell_type": "code",
   "execution_count": null,
   "id": "b4dd0eb2-ce18-4b96-8607-7668de5d972e",
   "metadata": {},
   "outputs": [],
   "source": [
    "ds2 = api.depth_2d(mesh, alpha, L, kappa, c, A)\n",
    "ds2"
   ]
  },
  {
   "cell_type": "code",
   "execution_count": null,
   "id": "0a62a582-c366-43c8-8778-7dfebf77a448",
   "metadata": {},
   "outputs": [],
   "source": [
    "f = plt.figure(figsize=(16, 9))\n",
    "ax = mesh.plot() #plot_points=False)\n",
    "ds2 = ds2.ugrid.to_crs(ax.projection)\n",
    "ds2[\"depth\"].ugrid.plot(ax=ax, cmap=\"gist_earth\")"
   ]
  }
 ],
 "metadata": {
  "kernelspec": {
   "display_name": "Python 3 (ipykernel)",
   "language": "python",
   "name": "python3"
  },
  "language_info": {
   "codemirror_mode": {
    "name": "ipython",
    "version": 3
   },
   "file_extension": ".py",
   "mimetype": "text/x-python",
   "name": "python",
   "nbconvert_exporter": "python",
   "pygments_lexer": "ipython3",
   "version": "3.10.13"
  }
 },
 "nbformat": 4,
 "nbformat_minor": 5
}
