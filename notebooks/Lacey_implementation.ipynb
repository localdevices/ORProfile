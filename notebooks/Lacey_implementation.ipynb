{
 "cells": [
  {
   "cell_type": "markdown",
   "id": "be914a8a-822d-46a5-8f57-567fbedc6337",
   "metadata": {},
   "source": [
    "### Theory of bed profile forms implemented in some numpy functions\n",
    "A bed profile model is required to estimate the bathymetry of a channel in 2D. Here we identify a set of functions to estimate the depth profile from a set of parameters that can be measured iun-situ or (ideally!) only at the side of the channel from drone footage. The angles at the sides of the channel are, according to Savenije 2003 and referenced authors, a good representation of bed form similarities. We therefore take these assumed relationships as starting point for our assessment.\n"
   ]
  },
  {
   "cell_type": "code",
   "execution_count": null,
   "id": "966abfb1-bbcd-46fa-bce9-ae0603fac9af",
   "metadata": {},
   "outputs": [],
   "source": [
    "import numpy as np\n",
    "import matplotlib.pyplot as plt"
   ]
  },
  {
   "cell_type": "markdown",
   "id": "a31ee27b-a389-4c37-9279-985e8abe7fc5",
   "metadata": {},
   "source": [
    "## Replication of figure 1 in Savenije 2003"
   ]
  },
  {
   "cell_type": "code",
   "execution_count": null,
   "id": "b70685bf-a4ef-420d-8654-2d3b738dfbc5",
   "metadata": {},
   "outputs": [],
   "source": [
    "# let's start with some coordinates from left (0) to right bank\n",
    "\n",
    "def depth_from_width(s, phi=0.1*np.pi, h_m=10):\n",
    "    \"\"\"\n",
    "    Simplest implementation of Eq. 12 from Savenije 2003, where the first coordinate (zero meters) is the lowest point. We stop at zero as that\n",
    "    is where we reach the natural levee crest.\n",
    "    \"\"\"\n",
    "    # zero is the lowest point in the stream starting in the middle of the stream\n",
    "    angle = np.minimum(np.tan(phi)/h_m * s, 0.5*np.pi)\n",
    "    depth = -np.cos(angle)*h_m\n",
    "    return depth\n",
    "\n",
    "\n",
    "s = np.linspace(0, 100, 1000)\n",
    "\n",
    "depth = depth_from_width(s)\n",
    "\n",
    "plt.plot(s, depth)\n"
   ]
  },
  {
   "cell_type": "markdown",
   "id": "58c0651c-60db-45e2-a08a-37b1b6264a02",
   "metadata": {},
   "source": [
    "## Implementation over an entire symmetrical channel\n",
    "\n",
    "Now we assume that the left coordinate is at the natural levee's left bank and the right at the natural levee's right bank.\n",
    "We can now no longer use both `h_m` and `phi`. We have to resolve one of them to be able to solve the problem."
   ]
  },
  {
   "cell_type": "code",
   "execution_count": null,
   "id": "7290732c-93ad-4873-9632-ff5195586038",
   "metadata": {},
   "outputs": [],
   "source": [
    "def depth_profile_from_parameters(s, phi=None, h_m=None):\n",
    "    \"\"\"\n",
    "    Solving the entire profile using a symmetrical assumption and either phi or h_m defined\n",
    "    \"\"\"\n",
    "    if phi is None and h_m is None:\n",
    "        raise ValueError(\"Either phi or h_m has to be supplied. You supplied nothing.\")\n",
    "    if phi is not None and h_m is not None:\n",
    "        raise ValueError(\"Either phi or h_m has to be supplied. You supplied both. Select either one of the two\")\n",
    "    # compute the total width of the channel\n",
    "    B = s[-1] - s[0]\n",
    "    if phi is None:\n",
    "        # h_m was supplied, so resolve for phi\n",
    "        phi = np.arctan(np.pi*h_m/B)\n",
    "    else:\n",
    "        # phi was supplied, so resolve for h_m\n",
    "        h_m = B*np.tan(phi)/np.pi\n",
    "    # compute ordinate coordinates (i.e. from center line towards banks)\n",
    "    _s = s - 0.5*B\n",
    "    return depth_from_width(_s, phi=phi, h_m=h_m)\n",
    "    \n",
    "        "
   ]
  },
  {
   "cell_type": "markdown",
   "id": "2f00c00d-47c4-45f2-9b9b-d240a89fd59b",
   "metadata": {},
   "source": [
    "## Test over a set of natural angles of repose\n",
    "Let's see what happens with different angles of repose. We should be assuming that milder angles lead to shallower water"
   ]
  },
  {
   "cell_type": "code",
   "execution_count": null,
   "id": "4a0143ce-2d24-4eba-a3d1-e23fddb09907",
   "metadata": {},
   "outputs": [],
   "source": [
    "\n",
    "for n, phi in enumerate(np.linspace(0.05*np.pi, 0.25*np.pi, 10)):\n",
    "    depth = depth_profile_from_parameters(s, phi=phi)\n",
    "    plt.plot(s, depth, label=\"{:02d}: phi = {:1.2f}\".format(n + 1, phi))\n",
    "    plt.xlabel(\"distance (left to right bank) [m]\")\n",
    "    plt.ylabel(\"depth [m]\")\n",
    "plt.legend()"
   ]
  },
  {
   "cell_type": "code",
   "execution_count": null,
   "id": "c8a01264-dd56-4ff0-addf-03a5ed7dab04",
   "metadata": {},
   "outputs": [],
   "source": [
    "depth_profile_from_parameters(s, h_m=31.831)"
   ]
  },
  {
   "cell_type": "markdown",
   "id": "d6ac1dd7-e0b9-4513-a940-f9212d7c01ba",
   "metadata": {},
   "source": [
    "### Asymmetrical channel behaviour\n",
    "A channel bed is usually not entirely symmetrical, so we can also assume that some further constraints may be necessary to assess the width/depth relationship. If we supply the left and right angle, then this does not necessarily mean that the depth can be resolved from that, as they may to a certain degree counter. Hence we have to optimize the location over the cross section where the depth is at maximum.\n",
    "\n"
   ]
  },
  {
   "cell_type": "code",
   "execution_count": null,
   "id": "a9e822f7-39cd-47a3-9c85-8125e60279d0",
   "metadata": {},
   "outputs": [],
   "source": [
    "#TODO"
   ]
  }
 ],
 "metadata": {
  "kernelspec": {
   "display_name": "Python 3 (ipykernel)",
   "language": "python",
   "name": "python3"
  },
  "language_info": {
   "codemirror_mode": {
    "name": "ipython",
    "version": 3
   },
   "file_extension": ".py",
   "mimetype": "text/x-python",
   "name": "python",
   "nbconvert_exporter": "python",
   "pygments_lexer": "ipython3",
   "version": "3.11.6"
  }
 },
 "nbformat": 4,
 "nbformat_minor": 5
}
