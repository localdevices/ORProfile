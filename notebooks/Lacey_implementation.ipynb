{
 "cells": [
  {
   "cell_type": "markdown",
   "id": "be914a8a-822d-46a5-8f57-567fbedc6337",
   "metadata": {},
   "source": [
    "### Theory of bed profile forms implemented in some numpy functions\n",
    "A bed profile model is required to estimate the bathymetry of a channel in 2D. Here we identify a set of functions to estimate the depth profile from a set of parameters that can be measured iun-situ or (ideally!) only at the side of the channel from drone footage. The angles at the sides of the channel are, according to Savenije 2003 and referenced authors, a good representation of bed form similarities. We therefore take these assumed relationships as starting point for our assessment.\n"
   ]
  },
  {
   "cell_type": "code",
   "execution_count": null,
   "id": "966abfb1-bbcd-46fa-bce9-ae0603fac9af",
   "metadata": {},
   "outputs": [],
   "source": [
    "!pip install seaborn\n",
    "import numpy as np\n",
    "import matplotlib.pyplot as plt\n",
    "import seaborn as sns\n",
    "sns.set_theme()"
   ]
  },
  {
   "cell_type": "markdown",
   "id": "a31ee27b-a389-4c37-9279-985e8abe7fc5",
   "metadata": {},
   "source": [
    "## Replication of figure 1 in Savenije 2003"
   ]
  },
  {
   "cell_type": "code",
   "execution_count": null,
   "id": "b70685bf-a4ef-420d-8654-2d3b738dfbc5",
   "metadata": {},
   "outputs": [],
   "source": [
    "# let's start with some coordinates from left (0) to right bank\n",
    "\n",
    "def depth_from_width(s, phi=0.1*np.pi, h_m=10):\n",
    "    \"\"\"\n",
    "    Simplest implementation of Eq. 12 from Savenije 2003, where the first coordinate (zero meters) is the lowest point. We stop at zero as that\n",
    "    is where we reach the natural levee crest.\n",
    "    \"\"\"\n",
    "    # zero is the lowest point in the stream starting in the middle of the stream\n",
    "    angle = np.minimum(np.tan(phi)/h_m * s, 0.5*np.pi)\n",
    "    depth = -np.cos(angle)*h_m\n",
    "    return depth\n",
    "\n",
    "\n",
    "s = np.linspace(0, 100, 1000)\n",
    "\n",
    "depth = depth_from_width(s)\n",
    "\n",
    "plt.plot(s, depth)\n",
    "plt.xlabel(\"Distance from deepest point [m]\")\n",
    "plt.ylabel(\"Depth +shore [m]\")\n"
   ]
  },
  {
   "cell_type": "markdown",
   "id": "58c0651c-60db-45e2-a08a-37b1b6264a02",
   "metadata": {},
   "source": [
    "## Implementation over an entire symmetrical channel\n",
    "\n",
    "Now we assume that the left coordinate is at the natural levee's left bank and the right at the natural levee's right bank.\n",
    "We can now no longer use both `h_m` and `phi`. We have to resolve one of them to be able to solve the problem."
   ]
  },
  {
   "cell_type": "code",
   "execution_count": null,
   "id": "7290732c-93ad-4873-9632-ff5195586038",
   "metadata": {},
   "outputs": [],
   "source": [
    "def depth_profile_from_parameters(s, phi=None, h_m=None):\n",
    "    \"\"\"\n",
    "    Solving the entire profile using a symmetrical assumption and either phi or h_m defined\n",
    "    \"\"\"\n",
    "    if phi is None and h_m is None:\n",
    "        raise ValueError(\"Either phi or h_m has to be supplied. You supplied nothing.\")\n",
    "    if phi is not None and h_m is not None:\n",
    "        raise ValueError(\"Either phi or h_m has to be supplied. You supplied both. Select either one of the two\")\n",
    "    # compute the total width of the channel\n",
    "    B = s[-1] - s[0]\n",
    "    if phi is None:\n",
    "        # h_m was supplied, so resolve for phi\n",
    "        phi = np.arctan(np.pi*h_m/B)\n",
    "    else:\n",
    "        # phi was supplied, so resolve for h_m\n",
    "        h_m = B*np.tan(phi)/np.pi\n",
    "    # compute ordinate coordinates (i.e. from center line towards banks)\n",
    "    _s = s - 0.5*B\n",
    "    return depth_from_width(_s, phi=phi, h_m=h_m)\n",
    "    \n",
    "\n"
   ]
  },
  {
   "cell_type": "markdown",
   "id": "2f00c00d-47c4-45f2-9b9b-d240a89fd59b",
   "metadata": {},
   "source": [
    "## Test over a set of natural angles of repose\n",
    "Let's see what happens with different angles of repose. We should be assuming that milder angles lead to shallower water"
   ]
  },
  {
   "cell_type": "code",
   "execution_count": null,
   "id": "4a0143ce-2d24-4eba-a3d1-e23fddb09907",
   "metadata": {},
   "outputs": [],
   "source": [
    "\n",
    "for n, phi in enumerate(np.linspace(0.05*np.pi, 0.25*np.pi, 10)):\n",
    "    depth = depth_profile_from_parameters(s, phi=phi)\n",
    "    plt.plot(s, depth, label=\"{:02d}: phi = {:1.2f}\".format(n + 1, phi))\n",
    "    plt.xlabel(\"Distance (left to right bank) [m]\")\n",
    "    plt.ylabel(\"Depth +shore [m]\")\n",
    "plt.axis(\"equal\")\n",
    "plt.legend(fontsize=8)"
   ]
  },
  {
   "cell_type": "code",
   "execution_count": null,
   "id": "c8a01264-dd56-4ff0-addf-03a5ed7dab04",
   "metadata": {},
   "outputs": [],
   "source": [
    "# left bank\n",
    "def depth_profile_left_right_parameters(s, phi_left, phi_right):\n",
    "    depths_left = depth_profile_from_parameters(s, phi=phi_left)\n",
    "    # right bank\n",
    "    depths_right = depth_profile_from_parameters(s, phi=phi_right)\n",
    "    weights = np.linspace(0, 1, len(s))\n",
    "    return (1 - weights) * depths_left + weights * depths_right\n",
    "\n",
    "s = np.linspace(0, 100, 100)\n",
    "depths = depth_profile_left_right_parameters(s, phi_left=0.3*np.pi, phi_right=0.1*np.pi)\n",
    "plt.plot(s, depths)\n",
    "plt.axis(\"equal\")\n",
    "plt.xlabel(\"Distance (left to right bank) [m]\")\n",
    "plt.ylabel(\"Depth +shore [m]\")\n",
    "plt.title(\"asymmetrical profile shape\")"
   ]
  },
  {
   "cell_type": "code",
   "execution_count": null,
   "id": "62c59d8e-718b-4e56-b6ec-698d677cf315",
   "metadata": {},
   "outputs": [],
   "source": [
    "s = np.linspace(0, 100, 100000)\n",
    "phi_left = 0.3*np.pi\n",
    "phi_right = np.linspace(0.3*np.pi, 0.01*np.pi,100)\n",
    "asym = []\n",
    "for phi_r in phi_right:\n",
    "    depths = depth_profile_left_right_parameters(s, phi_left=0.3*np.pi, phi_right=phi_r)\n",
    "    idx = np.where(depths==depths.min())\n",
    "    asym.append(s[idx[0][0]]/(s.max()-s[idx[0][0]]))\n",
    "\n"
   ]
  },
  {
   "cell_type": "code",
   "execution_count": null,
   "id": "fa418938-78c2-47be-8f47-65d74c0149b9",
   "metadata": {},
   "outputs": [],
   "source": [
    "s = np.linspace(0, 100, 100000)\n",
    "phi_left2 = 0.1*np.pi\n",
    "phi_right2 = np.linspace(0.3*np.pi, 0.01*np.pi,100)\n",
    "asym2 = []\n",
    "for phi_r in phi_right2:\n",
    "    depths = depth_profile_left_right_parameters(s, phi_left=phi_left2, phi_right=phi_r)\n",
    "    idx = np.where(depths==depths.min())\n",
    "    asym2.append(s[idx[0][0]]/(s.max()-s[idx[0][0]]))\n"
   ]
  },
  {
   "cell_type": "code",
   "execution_count": null,
   "id": "d1c5b8b3-1b25-478e-9fe4-7347b39a5712",
   "metadata": {},
   "outputs": [],
   "source": [
    "s.max()-s[idx[0][0]]"
   ]
  },
  {
   "cell_type": "code",
   "execution_count": null,
   "id": "9cb273c0-e284-4737-8ed0-63b0f517b0d2",
   "metadata": {},
   "outputs": [],
   "source": [
    "phi_rel2 =np.tan(phi_right2)/np.tan(phi_left2)\n",
    "phi_rel2 =np.tan(phi_right2)/np.tan(phi_left2)\n",
    "plt.plot(phi_rel, np.array(asym), \".\", alpha=0.3)\n",
    "plt.plot(phi_rel2, np.array(asym2), \"r.\", alpha=0.3)\n",
    "plt.xlabel(\"tan phi / tan phi\")\n",
    "plt.ylabel(\"rel B\")"
   ]
  },
  {
   "cell_type": "markdown",
   "id": "d6ac1dd7-e0b9-4513-a940-f9212d7c01ba",
   "metadata": {},
   "source": [
    "### Asymmetrical channel behaviour\n",
    "A channel bed is usually not entirely symmetrical, so we can also assume that some further constraints may be necessary to assess the width/depth relationship. If we supply the left and right angle, then this does not necessarily mean that the depth can be resolved from that, as they may to a certain degree counter. Hence we have to optimize the location over the cross section where the depth is at maximum.\n",
    "\n"
   ]
  },
  {
   "cell_type": "markdown",
   "id": "946fd196-4f08-4477-95a9-28a6e411f0f9",
   "metadata": {},
   "source": [
    "### Equations\n",
    "\n",
    "For the right side of the channel, the following applies:\n",
    "$h_m=\\frac{2B_r}{\\pi}\\tan{\\phi_r}$\n",
    "\n",
    "For left-wide, the following applies:\n",
    "\n",
    "$h_m=\\frac{2B_l}{\\pi}\\tan{\\phi_l}$\n",
    "\n",
    "Combining these two equations gives:\n",
    "\n",
    "$\\frac{\\tan{\\phi_r}}{\\tan{\\phi_l}}=\\frac{B_l}{B_r}$\n",
    "\n",
    "Meaning that if we know the angles of repose, we also know the relative distances from the deepest point. The only missing part is the depth in the deepest point, and then we known the absolute distances as well"
   ]
  },
  {
   "cell_type": "markdown",
   "id": "e1f2bdad-9f7e-474c-a60b-31fdadd229dc",
   "metadata": {},
   "source": [
    "### Modelling the location of the deepest point (distance from the middle of the grid) over the entire stretch\n",
    "In a natural stream the location of the deepest point typically meanders with a higher frequency than the meanders of the natural levees. This means that the deepest point moves from the left to the right bank as the river travels downstream. This needs to be simulated in our bathymetric model.\n",
    "\n",
    "Let's assume that we don't want to randomly pick the location of the deepest point, but instead we want to include it in the entire 2D spatial model of the depths. In this case we would need a longitudinal model for the location of the deepest point. We model it here as a distance from the centerline of the gridded domain, and assume here that the distance from the centerline can be modelled as a simple sine function as follows:\n",
    "\n",
    "$y_{off}\\left(x\\right)=\\bar{y_{off}} + A_y\\sin{\\left(2\\pi\\frac{x}{L}-\\kappa\\right)}$\n",
    "\n",
    "where $y_{off}$ [m] is the offset from the datum (e.g. the left or right side of a grid, or the center line) we are looking for, simulated as function of the longitudinal distance $x$ [m], $A_y$ [m] is the amplitude of the offset, $L$ [m] is a length scale for the frequency angle of the function, and $\\kappa$ [rad] the phase offset of the sinusoidal function. $\\bar{y_{off}}$, $A_y$, $\\kappa$ and $L$ are parameters that ideally are optimized with the available surveyed data points, along with the $\\phi_{left}$ and $\\phi_{right}$ parameters. We may choose to also constrain some of these parameters at some point, e.g. by allowing a user to say that they know where the dry/wet interface is located. That would fix a few of the parameters.\n",
    "\n",
    "We implement the function below:\n",
    "\n"
   ]
  },
  {
   "cell_type": "code",
   "execution_count": null,
   "id": "867b29b4-f67c-4d34-8a88-8fb5c34d6c21",
   "metadata": {},
   "outputs": [],
   "source": [
    "def deepest_point_y_dist(x, y_off_mean, A_y, L, kappa):\n",
    "    return y_off_mean + A_y*np.sin(2*np.pi*(x/L)-kappa)\n",
    "                               \n",
    "    "
   ]
  },
  {
   "cell_type": "markdown",
   "id": "6dcb2789-05a2-4a03-9414-015c85040075",
   "metadata": {},
   "source": [
    "Let's try out the function interactively with a certain chosen domain"
   ]
  },
  {
   "cell_type": "code",
   "execution_count": null,
   "id": "e1406321-ef11-460e-accc-0b3ca48818af",
   "metadata": {},
   "outputs": [],
   "source": [
    "from ipywidgets import interact\n",
    "def plot_y_off(y_off_mean, A_y, L, kappa):  #y_off_mean, A_y, omega, kappa):\n",
    "    x = np.linspace(0, 100, 10000)  # a 100 meter longitudinal stretch\n",
    "    plt.plot(\n",
    "        x, \n",
    "        deepest_point_y_dist(\n",
    "            x,\n",
    "            y_off_mean,\n",
    "            A_y,\n",
    "            L,\n",
    "            kappa,\n",
    "        )\n",
    "    )\n",
    "    plt.xlim([0, 100])\n",
    "    plt.ylim([-50, 50])\n",
    "            \n",
    "interact(\n",
    "    plot_y_off,\n",
    "    y_off_mean=(-20, 20),\n",
    "    A_y=(0, 40),\n",
    "    L=(0, 200),\n",
    "    kappa=(0, 2*np.pi)\n",
    ")"
   ]
  },
  {
   "cell_type": "markdown",
   "id": "f4b7849e-6bdd-48a6-aef3-431de7f5b989",
   "metadata": {},
   "source": [
    "### mapping the longitudinal function over a grid with distances from the middle\n",
    "Let's assume we have a perfectly rectangular grid, where in each grid cell we have computed the distance of the grid cell with respect to one of the banks. the longitudinal diurection in the grid is from left to right, the transects are from top to bottom. We want to calculate for each grid cell, how far it is from the deepest point"
   ]
  },
  {
   "cell_type": "code",
   "execution_count": null,
   "id": "9db6ab39-dd46-421f-b9b5-9d2efef6be88",
   "metadata": {},
   "outputs": [],
   "source": [
    "from matplotlib.colors import ListedColormap\n",
    "\n",
    "def distance_to_deepest(xi, yi, y_off_mean, A_y, L, kappa):\n",
    "    \"\"\"\n",
    "    Computes per grid cell, how far the deepest point is from zero coordinate in the y-direction\n",
    "    \"\"\"\n",
    "    # first we compute for each coordinate where the deepest point in the given transect is with respect to the y=0 coordinate\n",
    "    y_disti = deepest_point_y_dist(xi, y_off_mean, A_y, L, kappa)\n",
    "    # then we compute how far in the transect we are per grid cell\n",
    "    perp_distance = y_disti - yi\n",
    "    return perp_distance\n",
    "\n",
    "# Let's try it out with an interactive plot again\n",
    "\n",
    "def plot_y_off_2d(y_off_mean, A_y, L, kappa):\n",
    "    xax = np.linspace(0, 100, 1000)\n",
    "    yax = np.linspace(0, 50, 500)\n",
    "    xi, yi = np.meshgrid(xax, yax)  # xi are our longitudinal distances, yi our latitudinal distances\n",
    "    perp_dist = distance_to_deepest(\n",
    "        xi,\n",
    "        yi,\n",
    "        y_off_mean,\n",
    "        A_y,\n",
    "        L,\n",
    "        kappa\n",
    "    )\n",
    "    palette = sns.color_palette(\"Spectral\", 32) #, as_cmap=True)\n",
    "    cmap = ListedColormap(colors=palette)\n",
    "    plt.figure(figsize=(13, 6))\n",
    "    plt.pcolormesh(\n",
    "        xi,\n",
    "        yi,\n",
    "        perp_dist,\n",
    "        cmap=cmap,\n",
    "        vmin=-50,\n",
    "        vmax=50,\n",
    "    )        \n",
    "    cb = plt.colorbar()\n",
    "    cb.set_label(\"distance of deepest point from zero ordinal coordinate [m]\")\n",
    "\n",
    "    plt.xlabel(\"Longitudinal coordinate [m]\")\n",
    "    plt.ylabel(\"Ordinal coordinate [m]\")\n",
    "            \n",
    "interact(\n",
    "    plot_y_off_2d,\n",
    "    y_off_mean=(0, 50),  # we limit the range from the minimum y-coordinate to the maximum\n",
    "    A_y=(0, 40),\n",
    "    L=(100, 500),\n",
    "    kappa=(0, 2*np.pi)\n",
    ")"
   ]
  },
  {
   "cell_type": "markdown",
   "id": "dda24f02-7307-4d24-adf5-826dd23ff64b",
   "metadata": {},
   "source": [
    "### Final notes on deepest point model\n",
    "The parameters of this model may need constraining, as we are gaining quite a lot of parameters along the way now. "
   ]
  },
  {
   "cell_type": "markdown",
   "id": "5b03d535-677b-416e-8f19-7cab80adcca0",
   "metadata": {},
   "source": [
    "### Combining the ordinal model with the longitudinal model\n",
    "We now have a means to estimate the location of the deepest point, now we need to estalbish a 2D model that uses both concepts to estimate bathymetry. Here we can introduce a new constraint, namely that the conveyance from bank to bank should not change significantly from transect to transect.\n",
    "\n"
   ]
  }
 ],
 "metadata": {
  "kernelspec": {
   "display_name": "Python 3 (ipykernel)",
   "language": "python",
   "name": "python3"
  },
  "language_info": {
   "codemirror_mode": {
    "name": "ipython",
    "version": 3
   },
   "file_extension": ".py",
   "mimetype": "text/x-python",
   "name": "python",
   "nbconvert_exporter": "python",
   "pygments_lexer": "ipython3",
   "version": "3.10.13"
  }
 },
 "nbformat": 4,
 "nbformat_minor": 5
}
