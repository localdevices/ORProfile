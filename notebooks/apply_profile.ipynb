{
 "cells": [
  {
   "cell_type": "markdown",
   "id": "f57b1f08-8364-4e6d-9b37-a8f914fc0e2e",
   "metadata": {},
   "source": [
    "### Application of functions looped over a profile\n",
    "This is needed in order to: \n",
    "- [x] make a row/column indexation of grid cells\n",
    "- [x] enable applying functions over a row or column\n",
    "- [x] apply the Lacey functions on each profile\n",
    "We focus on one single profile application first."
   ]
  },
  {
   "cell_type": "code",
   "execution_count": null,
   "id": "03bc2702-80ad-4ba3-bbbb-eb864983b1ce",
   "metadata": {},
   "outputs": [],
   "source": [
    "import orprofile\n",
    "import geopandas as gpd\n",
    "import os\n",
    "import xugrid as xu\n",
    "import xarray as xr\n",
    "import numpy as np\n",
    "import matplotlib.pyplot as plt"
   ]
  },
  {
   "cell_type": "code",
   "execution_count": null,
   "id": "6cfaf7a3-62cc-4cb5-982f-c2ad5b1952d1",
   "metadata": {},
   "outputs": [],
   "source": [
    "fn_splines = \"../examples/data/splines.geojson\"\n",
    "fn_points = \"../examples/data/bamboi_survey.geojson\"\n",
    "splines = gpd.read_file(fn_splines)\n",
    "\n",
    "mesh = orprofile.api.mesh.Mesh(splines, n=10, m=10, points=fn_points)\n",
    "mesh.mesh2d.plot()\n"
   ]
  },
  {
   "cell_type": "code",
   "execution_count": null,
   "id": "b5ca9f9f-9f45-49f1-a962-5204f8cc02dc",
   "metadata": {},
   "outputs": [],
   "source": [
    "mesh.mesh2d"
   ]
  },
  {
   "cell_type": "markdown",
   "id": "9cea8bdb-b708-4b57-8b8d-7abd77b685c2",
   "metadata": {},
   "source": [
    "### organizing rows and columns into a XUGridDataSet"
   ]
  },
  {
   "cell_type": "code",
   "execution_count": null,
   "id": "bd18e072-1a1f-455d-82de-60d138558c27",
   "metadata": {},
   "outputs": [],
   "source": [
    "# make a columns and row coordinate for each node\n",
    "columns = np.repeat([np.arange(mesh.n)], mesh.m, axis=0).flatten()\n",
    "rows = np.repeat(np.arange(mesh.m), mesh.n)\n",
    "\n",
    "# prepare UgridDataArrays, using the grid\n",
    "da_rows = xu.UgridDataArray(\n",
    "    xr.DataArray(\n",
    "        data=rows,\n",
    "        dims=[mesh.mesh2d.face_dimension]\n",
    "    ),\n",
    "    grid=mesh.mesh2d,\n",
    ")\n",
    "da_cols = xu.UgridDataArray(\n",
    "    xr.DataArray(\n",
    "        data=columns,\n",
    "        dims=[mesh.mesh2d.face_dimension]\n",
    "    ),\n",
    "    grid=mesh.mesh2d,\n",
    ")\n",
    "\n",
    "# combine everything into a UgridDataSet\n",
    "ds = xu.UgridDataset(grids=mesh.mesh2d)\n",
    "ds.coords[\"rows\"] = da_rows\n",
    "ds.coords[\"cols\"] = da_cols\n",
    "# ds.coords[\"node_x\"] = (mesh.mesh2d.face_dimension, mesh.mesh2d.node_x)\n",
    "# ds.coords[\"node_y\"] = (mesh.mesh2d.face_dimension, mesh.mesh2d.node_y)\n",
    "ds[\"rows\"] = da_rows\n",
    "ds[\"cols\"] = da_cols\n",
    "\n",
    "# make a fancy plot\n",
    "f, axs = plt.subplots(ncols=2, figsize=(13, 4))\n",
    "ds.cols.ugrid.plot(ax=axs[0])\n",
    "ds.rows.ugrid.plot(ax=axs[1])\n",
    "axs[0].set_title(\"column indexes\")\n",
    "axs[1].set_title(\"row indexes\")\n",
    "axs[0].grid(linestyle=\"--\")\n",
    "axs[1].grid(linestyle=\"--\")\n"
   ]
  },
  {
   "cell_type": "code",
   "execution_count": null,
   "id": "1ced0c1f-291b-488f-a061-4df586bdbd26",
   "metadata": {},
   "outputs": [],
   "source": [
    "ds_g = ds.groupby(\"rows\")\n",
    "ds_1 = list(ds_g)[0][1]\n",
    "grid_sel = mesh.mesh2d.isel(mesh2d_nFaces=ds_1.mesh2d_nFaces.values)\n",
    "ds_1_ug = xu.UgridDataset(ds_1, grids=grid_sel)\n",
    "ds_1_ug.ugrid.grid.node_x\n",
    "# ds_1_ug.ugrid.set_node_coords\n",
    "\n"
   ]
  },
  {
   "cell_type": "code",
   "execution_count": null,
   "id": "3d2f9416-f1e1-4b15-b2ac-5485f8099ca3",
   "metadata": {},
   "outputs": [],
   "source": [
    "list(ds_g)[1][1]"
   ]
  },
  {
   "cell_type": "markdown",
   "id": "b75893ad-4705-48f1-bb32-99ae856b892e",
   "metadata": {},
   "source": [
    "### develop a mapping function that can be applied per row or column\n",
    "We need a special mapping function because xugrid cannot yet handle groupby / map combinations without\n",
    "destroying the ugrid property. Here we develop functions that add the grid for each group internally until\n",
    "xugrid is updated."
   ]
  },
  {
   "cell_type": "code",
   "execution_count": null,
   "id": "31b631bf-aaf8-4fe4-8612-78685f8bc941",
   "metadata": {},
   "outputs": [],
   "source": [
    "# general mapping function, which must become an internal method in mesh\n",
    "def map_func(row, f, ugrid, name=\"new\", **kwargs):\n",
    "    grid_sel = ugrid.isel(mesh2d_nFaces=row.mesh2d_nFaces.values)\n",
    "    row_ug = xu.UgridDataset(row, grids=grid_sel)\n",
    "    # now apply the function\n",
    "    result = f(row_ug, **kwargs)\n",
    "    result.name = name\n",
    "    return result\n",
    "\n",
    "# specific function that computes something. This can be made by the user and applied\n",
    "def get_dist(row):\n",
    "    # get the centroid coordinates of each face\n",
    "    x = row.ugrid.to_geodataframe().centroid.x\n",
    "    y = row.ugrid.to_geodataframe().centroid.y\n",
    "    # compute the difference in distance per grid cell from one bank to the other\n",
    "    ds = (np.diff(x)**2 + np.diff(y)**2)**0.5\n",
    "    # distance from bank\n",
    "    s = np.cumsum(np.pad(ds, (1, 0), \"constant\"))\n",
    "    # use the \"cols\" variable as a template\n",
    "    da = row[\"cols\"]\n",
    "    da[:] = s\n",
    "    return xr.DataArray(da)\n",
    "\n",
    "\n"
   ]
  },
  {
   "cell_type": "code",
   "execution_count": null,
   "id": "adfe55a4-c7be-42d7-8618-fe2a1abf977a",
   "metadata": {},
   "outputs": [],
   "source": [
    "distance = xu.UgridDataArray(\n",
    "    ds_g.map(\n",
    "        map_func,\n",
    "        f=get_dist,\n",
    "        name=\"distance from bank\",\n",
    "        ugrid=mesh.mesh2d\n",
    "    ),\n",
    "    grid=mesh.mesh2d\n",
    ")\n",
    "ax = plt.axes()\n",
    "distance.ugrid.plot(ax=ax)\n",
    "ax.axis(\"equal\")\n"
   ]
  },
  {
   "cell_type": "markdown",
   "id": "6635ea3b-979d-4e1e-a621-c9b6dc50ca4a",
   "metadata": {},
   "source": [
    "### functionality migrated to orprofile package\n",
    "Below we also test the functionality within tre orprofile package in `Mesh.api.mesh`, this should give the same results"
   ]
  },
  {
   "cell_type": "code",
   "execution_count": null,
   "id": "f8bd629e-840a-4992-8ab7-52a3700fc663",
   "metadata": {},
   "outputs": [],
   "source": [
    "distance = mesh.map_rowwise(orprofile.profile.get_dist, name=\"distance from bank\")\n",
    "ax = plt.axes()\n",
    "distance.ugrid.plot(ax=ax)\n",
    "ax.axis(\"equal\")\n"
   ]
  },
  {
   "cell_type": "code",
   "execution_count": null,
   "id": "d559f5e5-8ad0-4412-ae99-24964334ed8c",
   "metadata": {},
   "outputs": [],
   "source": []
  }
 ],
 "metadata": {
  "kernelspec": {
   "display_name": "Python 3 (ipykernel)",
   "language": "python",
   "name": "python3"
  },
  "language_info": {
   "codemirror_mode": {
    "name": "ipython",
    "version": 3
   },
   "file_extension": ".py",
   "mimetype": "text/x-python",
   "name": "python",
   "nbconvert_exporter": "python",
   "pygments_lexer": "ipython3",
   "version": "3.10.13"
  }
 },
 "nbformat": 4,
 "nbformat_minor": 5
}
