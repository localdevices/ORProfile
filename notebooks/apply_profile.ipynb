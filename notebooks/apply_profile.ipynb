{
 "cells": [
  {
   "cell_type": "markdown",
   "id": "f57b1f08-8364-4e6d-9b37-a8f914fc0e2e",
   "metadata": {},
   "source": [
    "### Application of functions looped over a profile\n",
    "This is needed in order to: \n",
    "- [ ] associate measured points with locations within a profile (with the option to look a little bit upstream and downstream)\n",
    "- [ ] apply the Lacey functions on each profile\n",
    "- [ ] apply least squares fitting functions on each profile\n",
    "- [ ] optimize single parameters over all profiles eventually\n",
    "\n",
    "Here we focus on one single profile application first."
   ]
  },
  {
   "cell_type": "code",
   "execution_count": null,
   "id": "03bc2702-80ad-4ba3-bbbb-eb864983b1ce",
   "metadata": {},
   "outputs": [],
   "source": [
    "import orprofile\n",
    "import geopandas as gpd\n",
    "import os\n",
    "import xugrid as xu\n",
    "import xarray as xr\n",
    "import numpy as np"
   ]
  },
  {
   "cell_type": "code",
   "execution_count": null,
   "id": "6cfaf7a3-62cc-4cb5-982f-c2ad5b1952d1",
   "metadata": {},
   "outputs": [],
   "source": [
    "fn_splines = \"../examples/data/splines.geojson\"\n",
    "fn_points = \"../examples/data/bamboi_survey.geojson\"\n",
    "splines = gpd.read_file(fn_splines)\n",
    "\n",
    "mesh = orprofile.api.mesh.Mesh(splines, n=5, m=10, points=fn_points)\n",
    "mesh\n"
   ]
  },
  {
   "cell_type": "code",
   "execution_count": null,
   "id": "b5ca9f9f-9f45-49f1-a962-5204f8cc02dc",
   "metadata": {},
   "outputs": [],
   "source": [
    "mesh.plot()"
   ]
  },
  {
   "cell_type": "markdown",
   "id": "9cea8bdb-b708-4b57-8b8d-7abd77b685c2",
   "metadata": {},
   "source": [
    "### organizing rows and columns into a XUGridDataSet"
   ]
  },
  {
   "cell_type": "code",
   "execution_count": null,
   "id": "bd18e072-1a1f-455d-82de-60d138558c27",
   "metadata": {},
   "outputs": [],
   "source": [
    "# make a columns and row coordinate for each node\n",
    "columns = np.repeat([np.arange(mesh.n)], mesh.m, axis=0).flatten()\n",
    "rows = np.repeat(np.arange(mesh.m), mesh.n)\n",
    "\n",
    "# prepare UgridDataArrays, using the grid\n",
    "da_rows = xu.UgridDataArray(\n",
    "    xr.DataArray(\n",
    "        data=rows,\n",
    "        dims=[mesh.mesh2d.face_dimension]\n",
    "    ),\n",
    "    grid=mesh.mesh2d,\n",
    ")\n",
    "da_cols = xu.UgridDataArray(\n",
    "    xr.DataArray(\n",
    "        data=columns,\n",
    "        dims=[mesh.mesh2d.face_dimension]\n",
    "    ),\n",
    "    grid=mesh.mesh2d,\n",
    ")\n",
    "\n",
    "# combine everything into a UgridDataSet\n",
    "ds = xu.UgridDataset(grids=mesh.mesh2d)\n",
    "ds[\"rows\"] = da_rows\n",
    "ds[\"cols\"] = da_cols\n",
    "\n",
    "# make a fancy plot\n",
    "f, axs = plt.subplots(ncols=2, figsize=(13, 5))\n",
    "ds.cols.ugrid.plot(ax=axs[0])\n",
    "ds.rows.ugrid.plot(ax=axs[1])\n",
    "axs[0].set_title(\"column indexes\")\n",
    "axs[1].set_title(\"row indexes\")\n"
   ]
  },
  {
   "cell_type": "markdown",
   "id": "b75893ad-4705-48f1-bb32-99ae856b892e",
   "metadata": {},
   "source": [
    "### make a dummy ufunc and see if we can retrieve attributes of the row as we loop through"
   ]
  },
  {
   "cell_type": "code",
   "execution_count": null,
   "id": "31b631bf-aaf8-4fe4-8612-78685f8bc941",
   "metadata": {},
   "outputs": [],
   "source": [
    "def print_row(row):\n",
    "    # we'll simply print the row for now\n",
    "    print(f\"We are printing the row\")\n",
    "    print(row)\n",
    "\n"
   ]
  }
 ],
 "metadata": {
  "kernelspec": {
   "display_name": "Python 3 (ipykernel)",
   "language": "python",
   "name": "python3"
  },
  "language_info": {
   "codemirror_mode": {
    "name": "ipython",
    "version": 3
   },
   "file_extension": ".py",
   "mimetype": "text/x-python",
   "name": "python",
   "nbconvert_exporter": "python",
   "pygments_lexer": "ipython3",
   "version": "3.10.13"
  }
 },
 "nbformat": 4,
 "nbformat_minor": 5
}
