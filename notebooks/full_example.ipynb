{
 "cells": [
  {
   "cell_type": "markdown",
   "id": "0",
   "metadata": {},
   "source": [
    "## Making a bathymetry mesh and export a GeoTIFF from point clouds and bathymetric surveys\n",
    "In this notebook we demonstrate the full process to go from a sparse set of points in a stream to a bathymetric model of the stream using geomorphological principles. In order we do the following:\n",
    "- [x] prepare a \"mesh\" object from a set of splines of the dry-wet interface and up and downstream boundaries\n",
    "- [x] provide points from a fishfinder survey to the mesh\n",
    "- [x] optimize bathymetric parameters of the mesh\n",
    "- [x] refine the more specific small-scale parameters\n",
    "- [x] export the mesh to a NetCDF file and a GeoTIFF"
   ]
  },
  {
   "cell_type": "markdown",
   "id": "1",
   "metadata": {},
   "source": [
    "### Make a mesh object from splines\n",
    "In our examples data folder, we have a set of splines prepared. Let's first have a look at these by loading them into geopandas and make a very very simple plot. Geopandas is a library that can be used to load, save and manipulate geospatial vector data such as points, lines and polygons."
   ]
  },
  {
   "cell_type": "code",
   "execution_count": null,
   "id": "2",
   "metadata": {},
   "outputs": [],
   "source": [
    "import geopandas as gpd\n",
    "import matplotlib.pyplot as plt\n",
    "import numpy as np\n",
    "splines = gpd.read_file(\"../examples/data/splines.geojson\")\n",
    "splines.plot()\n",
    "\n",
    "# we'll annotate so that things are clear. We plot annotations at the centroid of each line\n",
    "\n",
    "annot = [\"right bank\", \"left bank\",  \"downstream\", \"upstream\"]\n",
    "for n, (geom, text) in enumerate(zip(splines.geometry, annot)):\n",
    "    plt.text(\n",
    "        *np.array(geom.centroid.xy).flatten(),\n",
    "        f\"line {n + 1}: {text}\"\n",
    "    )\n"
   ]
  },
  {
   "cell_type": "markdown",
   "id": "3",
   "metadata": {},
   "source": [
    "These lines can be drawn in a GIS such as QGIS. It is important to note a few things:\n",
    "- the order is important. The first two splines should contain the left and right bank (top and bottom slightly curved lines in figure), the third and fourth the lines perpendicular to the stream (two straight lines on left and right side).\n",
    "- The lines along the banks should be following the shoreline (wet/dry interface) as much as possible during the measurement campaign and should be as straight as possible. The lines may contain multiple vertices as you can see.\n",
    "- The perpendicular lines *MUST* be only one vertex (click only two points to create them).\n",
    "\n",
    "Now we can use these to generate a mesh as follows."
   ]
  },
  {
   "cell_type": "code",
   "execution_count": null,
   "id": "4",
   "metadata": {},
   "outputs": [],
   "source": [
    "from orprofile import api\n",
    "\n",
    "mesh = api.mesh.Mesh(splines, n=20, m=10)\n",
    "mesh.plot()\n",
    "# fn_points = \"../examples/data/bamboi_survey.geojson\"\n",
    "# mesh = api.mesh.Mesh(splines, n=50, m=100, points=fn_points)\n",
    "\n",
    "# mesh.plot()"
   ]
  },
  {
   "cell_type": "markdown",
   "id": "5",
   "metadata": {},
   "source": [
    "Let's explain this further. ORPRofile has a so-called `Mesh` class, which generates a mesh (or grid) with some intelligence. A mesh is essentially a grid, in our case a so-called curvilinear grid. It looks almost like a regular grid but can be shaped in certain directions. A `Mesh` object can consequently read in your data, analyze the likely geomorphological regime belonging to it by fitting a model based on Lacey's equation, and then estimate depths using the fit within the mesh grid cells. This can then provide insights on the bathymetry, and also where the Lacey assumptions do not seem to apply very well. This is where residuals between observations and fitted depths are poor. These are likely locations where there is some non-natural influence on the sedimentation process. Naturally this only applies in alluvial depositing stream sections.\n",
    "\n",
    "In detail, in the code we simply say that we want a mesh initiated within the area defined by the 4 splines, and that this mesh should contain 20 rows and 10 columns. The mesh will then be made in between the 4 splines. The plot also shows a nice satellite view. There are some further options for the plot, which are documented in our API documentation. Please have a look at that for further options."
   ]
  },
  {
   "cell_type": "markdown",
   "id": "6",
   "metadata": {},
   "source": [
    "## Make a random bathymetry using the Lacey model.\n",
    "The cool thing is that the the mesh object understand some regime theory. We have made a 2-dimensional model that estimates bathymetry using 5 different parameters. We assume that there is always a \"deepest point\" $h_m$ over perpendicular sections and that this deepest point meanders in between the left and right natural levee following a 3-parameter sinus function. The natural levees can be further away from the two left and right splines that we have drawn. These splines merely denote the left and right wetted banks during the survey. The parameters of the model are:\n",
    "\n",
    "* $A$ [m$^2$]: the wetted surface (assumed constant over the entire longitudinal reach).\n",
    "* $c$ [-]: dimensionless constant defining how $h_m$ relates to the grid width at a given location. This is the typical Lacey law, i.e. that there is a depth / width ratio, dependent on the sediment types (fine sediments: depth/width is small, coarse sediments: depth/width is large)\n",
    "* $\\alpha$ [m]: the amplitude of the offset from the center of the deepest point. Measures the scale of the meanders.\n",
    "* $L$ [m]: the length scale (wave length) of the offset of deepest point sinus.\n",
    "* $\\kappa$ [rad]: the phase of the deepest point sinus.\n",
    "\n"
   ]
  },
  {
   "cell_type": "code",
   "execution_count": null,
   "id": "7",
   "metadata": {},
   "outputs": [],
   "source": [
    "import matplotlib.pyplot as plt\n",
    "\n",
    "alpha = 10  # amplitude of meander around centerline [m]\n",
    "L = 200  # wave length m\n",
    "A = 350  # conveyance surface m2\n",
    "c = 1.0  # width to grid width ratio [-]\n",
    "kappa = -.25*np.pi  # phase [rad]\n",
    "\n",
    "# optimized parameters are below\n",
    "# alpha, L, kappa, c, A = [10, 39.4624431, 0.204105903, 1.188, 429.690415]\n",
    "\n",
    "\n",
    "# optimized large-scale parameters, smaller scale defined by user??\n",
    "# L = 200\n",
    "# kappa = -.25*np.pi  # phase [rad]\n",
    "# alpha = 30\n",
    "\n",
    "# we use the depth_2d function of orprofile to make a depth estimate using the 5 parameters. Input is the mesh, and the 5 parameters.\n",
    "ds_depth = api.depth_2d(mesh, alpha, L, kappa, c, A)\n",
    "\n",
    "# mesh.points[\"depth\"] = mesh.points[\"Depth\"] - 116.1\n",
    "\n",
    "f = plt.figure(figsize=(16, 9))\n",
    "ax = mesh.plot(points_kw={\"cmap\": \"gist_earth\", \"vmin\": ds_depth[\"depth\"].min(), \"vmax\": ds_depth[\"depth\"].max()})\n",
    "ds_depth = ds_depth.ugrid.to_crs(ax.projection)\n",
    "ds_depth[\"depth\"].ugrid.plot(ax=ax, cmap=\"gist_earth\")"
   ]
  },
  {
   "cell_type": "markdown",
   "id": "8",
   "metadata": {},
   "source": [
    "This can be totally wrong of course, and also the resolution is really poor. Let's first improve the resolution, by making a new mesh with more detail and rerun everything. "
   ]
  },
  {
   "cell_type": "code",
   "execution_count": null,
   "id": "9",
   "metadata": {},
   "outputs": [],
   "source": [
    "mesh_high_res = api.mesh.Mesh(splines, n=100, m=100)\n",
    "\n",
    "ds_depth_high_res = api.depth_2d(mesh_high_res, alpha, L, kappa, c, A)\n",
    "\n",
    "f = plt.figure(figsize=(16, 9))\n",
    "ax = mesh_high_res.plot()\n",
    "# change the projection to match the projection of the axes\n",
    "ds_depth_high_res_merc = ds_depth_high_res.ugrid.to_crs(ax.projection)\n",
    "ds_depth_high_res_merc[\"depth\"].ugrid.plot(ax=ax, cmap=\"gist_earth\")\n"
   ]
  },
  {
   "cell_type": "markdown",
   "id": "10",
   "metadata": {},
   "source": [
    "You can see here that the mesh is slightly narrower on the upstream (right) side. This means that the 5-parameter model, in order to ensure that the conveyance surface remains the same, also requires more depth in the middle than on the downstream side. Let's now confront this with some observations. You can do this by adding observations to the mesh a plot it again."
   ]
  },
  {
   "cell_type": "code",
   "execution_count": null,
   "id": "11",
   "metadata": {},
   "outputs": [],
   "source": [
    "# if you point to a GIS point vector file, it will automatically be opened and set\n",
    "mesh_high_res.points = \"../examples/data/bamboi_survey.geojson\"\n",
    "mesh_high_res.points"
   ]
  },
  {
   "cell_type": "code",
   "execution_count": null,
   "id": "12",
   "metadata": {},
   "outputs": [],
   "source": [
    "f = plt.figure(figsize=(16, 9))\n",
    "ax = mesh_high_res.plot()\n",
    "# change the projection to match the projection of the axes\n",
    "ds_depth_high_res_merc = ds_depth_high_res.ugrid.to_crs(ax.projection)\n",
    "ds_depth_high_res_merc[\"depth\"].ugrid.plot(ax=ax, cmap=\"gist_earth\")\n"
   ]
  },
  {
   "cell_type": "markdown",
   "id": "13",
   "metadata": {},
   "source": [
    "We also want to have information in the areas outside the wet part, e.g. from a drone point cloud. We can achieve this by adding cells on the left and right bank as follows:\n"
   ]
  },
  {
   "cell_type": "code",
   "execution_count": null,
   "id": "14",
   "metadata": {},
   "outputs": [],
   "source": [
    "mesh_high_res = api.mesh.Mesh(splines, n=50, m=35)\n",
    "mesh_high_res.crs\n",
    "mesh_high_res = mesh_high_res.add_rows(left=10, right=10)\n",
    "ds_depth_high_res = api.depth_2d(mesh_high_res, alpha, L, kappa, c, A)\n",
    "\n",
    "f = plt.figure(figsize=(16, 9))\n",
    "ax = mesh_high_res.plot()\n",
    "# ax = plt.subplot(111)\n",
    "# change the projection to match the projection of the axes\n",
    "ds_depth_high_res_merc = ds_depth_high_res.ugrid.to_crs(ax.projection)\n",
    "ds_depth_high_res_merc[\"depth\"].ugrid.plot(ax=ax, cmap=\"gist_earth\", vmin=-6, vmax=0)\n"
   ]
  }
 ],
 "metadata": {
  "kernelspec": {
   "display_name": "Python 3 (ipykernel)",
   "language": "python",
   "name": "python3"
  },
  "language_info": {
   "codemirror_mode": {
    "name": "ipython",
    "version": 3
   },
   "file_extension": ".py",
   "mimetype": "text/x-python",
   "name": "python",
   "nbconvert_exporter": "python",
   "pygments_lexer": "ipython3",
   "version": "3.10.13"
  }
 },
 "nbformat": 4,
 "nbformat_minor": 5
}
